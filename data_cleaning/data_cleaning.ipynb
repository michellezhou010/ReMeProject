{
 "cells": [
  {
   "cell_type": "code",
   "execution_count": 4,
   "metadata": {
    "collapsed": false
   },
   "outputs": [
    {
     "name": "stdout",
     "output_type": "stream",
     "text": [
      "14250\n",
      "indice1\n"
     ]
    },
    {
     "name": "stderr",
     "output_type": "stream",
     "text": [
      "/home/abhinav/miniconda3/envs/py35/lib/python3.5/site-packages/sklearn/utils/validation.py:386: DeprecationWarning: Passing 1d arrays as data is deprecated in 0.17 and willraise ValueError in 0.19. Reshape your data either using X.reshape(-1, 1) if your data has a single feature or X.reshape(1, -1) if it contains a single sample.\n",
      "  DeprecationWarning)\n"
     ]
    },
    {
     "data": {
      "text/plain": [
       "[array(['art401a', 'art406a', 'chm645a', 'eco221a', 'eco501a', 'ee210a',\n",
       "        'ee250a', 'ee301a', 'ee311a', 'ee321a', 'ee340a', 'ee360a',\n",
       "        'ee381a', 'ee392a', 'ee609a', 'ee627a', 'eng433a', 'eng436a',\n",
       "        'eng439a', 'ime642a', 'mba635a', 'me774a', 'mso201a', 'mth552a',\n",
       "        'nt614a', 'phi141a', 'psy454a', 'psy458a', 'soc171a', 'soc479a',\n",
       "        'soc481a'], \n",
       "       dtype='<U7')]"
      ]
     },
     "execution_count": 4,
     "metadata": {},
     "output_type": "execute_result"
    }
   ],
   "source": [
    "import re\n",
    "import pandas as pd\n",
    "import numpy as np\n",
    "data_cleaned=pd.read_csv(\"../data_12.csv\")\n",
    "data_cleaned[\"ROLL_NO\"]=data_cleaned[data_cleaned.columns[6]]\n",
    "data_cleaned.drop(data_cleaned.columns[6],1,inplace=True)\n",
    "data_cleaned[data_cleaned.columns[0]]=data_cleaned[data_cleaned.columns[0]].apply(lambda x: re.sub('(....$)',\"\",x))\n",
    "data_cleaned.drop(\" INSTRUCTOR NAME\",1,inplace=True)\n",
    "data_cleaned=data_cleaned[data_cleaned[\" SEMESTER\"]!=\" SEMESTER\"]\n",
    "data_cleaned[data_cleaned.columns[1]]=pd.to_numeric(data_cleaned.loc[:,data_cleaned.columns[1]])\n",
    "data_cleaned[data_cleaned.columns[0]]=pd.to_numeric(data_cleaned.loc[:,data_cleaned.columns[0]])\n",
    "data_cleaned.ROLL_NO=data_cleaned.ROLL_NO.astype(str)\n",
    "roll_nos=data_cleaned.ROLL_NO.values\n",
    "corpus=data_cleaned[\" COURSE No. \"].values\n",
    "\n",
    "from sklearn.feature_extraction.text import CountVectorizer\n",
    "vectorizerX = CountVectorizer(min_df=1)\n",
    "vectorizerY = CountVectorizer(min_df=1)\n",
    "X = vectorizerX.fit_transform(corpus)\n",
    "Y = vectorizerY.fit_transform(roll_nos)\n",
    "\n",
    "len_courses=len(vectorizerX.get_feature_names())\n",
    "len_students=len(vectorizerY.get_feature_names())-1\n",
    "\n",
    "\n",
    "data_cleaned.ROLL_NO=data_cleaned.ROLL_NO.astype(float)\n",
    "rolled=(vectorizerY.get_feature_names())\n",
    "for i,roll in enumerate(rolled):\n",
    "    rolled[i]=float(roll)\n",
    "rolled=rolled[:-1]    \n",
    "\n",
    "\n",
    "dat_mat_3=np.zeros((len_students,len_courses))\n",
    "dat_mat_4=np.zeros((len_students,len_courses))\n",
    "dat_mat_5=np.zeros((len_students,len_courses))\n",
    "dat_mat_6=np.zeros((len_students,len_courses))\n",
    "dat_mat_7=np.zeros((len_students,len_courses))\n",
    "dat_mat_8=np.zeros((len_students,len_courses))\n",
    "\n",
    "for i,roll in enumerate(rolled):\n",
    "    first_sem=(data_cleaned[data_cleaned.columns[5]]==roll)&(data_cleaned[data_cleaned.columns[0]]==2012)&(data_cleaned[data_cleaned.columns[1]]==1)\n",
    "    second_sem=(data_cleaned[data_cleaned.columns[5]]==roll)&(data_cleaned[data_cleaned.columns[0]]==2012)&(data_cleaned[data_cleaned.columns[1]]==2)\n",
    "    summer_1=(data_cleaned[data_cleaned.columns[5]]==roll)&(data_cleaned[data_cleaned.columns[0]]==2012)&(data_cleaned[data_cleaned.columns[1]]==3)\n",
    "    third_sem=(data_cleaned[data_cleaned.columns[5]]==roll)&(data_cleaned[data_cleaned.columns[0]]==2013)&(data_cleaned[data_cleaned.columns[1]]==1)\n",
    "    fourth_sem=(data_cleaned[data_cleaned.columns[5]]==roll)&(data_cleaned[data_cleaned.columns[0]]==2013)&(data_cleaned[data_cleaned.columns[1]]==2)\n",
    "    summer_2=(data_cleaned[data_cleaned.columns[5]]==roll)&(data_cleaned[data_cleaned.columns[0]]==2013)&(data_cleaned[data_cleaned.columns[1]]==3)\n",
    "    fifth_sem=(data_cleaned[data_cleaned.columns[5]]==roll)&(data_cleaned[data_cleaned.columns[0]]==2014)&(data_cleaned[data_cleaned.columns[1]]==1)\n",
    "    sixth_sem=(data_cleaned[data_cleaned.columns[5]]==roll)&(data_cleaned[data_cleaned.columns[0]]==2014)&(data_cleaned[data_cleaned.columns[1]]==2)\n",
    "    summer_3=(data_cleaned[data_cleaned.columns[5]]==roll)&(data_cleaned[data_cleaned.columns[0]]==2014)&(data_cleaned[data_cleaned.columns[1]]==3)\n",
    "    seventh_sem=(data_cleaned[data_cleaned.columns[5]]==roll)&(data_cleaned[data_cleaned.columns[0]]==2015)&(data_cleaned[data_cleaned.columns[1]]==1)\n",
    "    eigth_sem=(data_cleaned[data_cleaned.columns[5]]==roll)&(data_cleaned[data_cleaned.columns[0]]==2015)&(data_cleaned[data_cleaned.columns[1]]==2)\n",
    "    courses_3=third_sem|first_sem|second_sem|summer_1\n",
    "    courses_4=third_sem|first_sem|second_sem|fourth_sem|summer_1\n",
    "    courses_5=fifth_sem|fourth_sem|third_sem|first_sem|second_sem|summer_2|summer_1\n",
    "    courses_6=sixth_sem|fifth_sem|fourth_sem|third_sem|first_sem|second_sem|summer_2|summer_1    \n",
    "    courses_7=seventh_sem|summer_3|sixth_sem|fifth_sem|fourth_sem|third_sem|first_sem|second_sem|summer_2|summer_1    \n",
    "    courses_8=eigth_sem|seventh_sem|summer_3|sixth_sem|fifth_sem|fourth_sem|third_sem|first_sem|second_sem|summer_2|summer_1    \n",
    "\n",
    "    dat_mat_3[i]=sum(vectorizerX.transform(data_cleaned[courses_3][\" COURSE No. \"].values).toarray())\n",
    "    dat_mat_4[i]=sum(vectorizerX.transform(data_cleaned[courses_4][\" COURSE No. \"].values).toarray())\n",
    "    dat_mat_5[i]=sum(vectorizerX.transform(data_cleaned[courses_5][\" COURSE No. \"].values).toarray())\n",
    "    dat_mat_6[i]=sum(vectorizerX.transform(data_cleaned[courses_6][\" COURSE No. \"].values).toarray())\n",
    "    dat_mat_7[i]=sum(vectorizerX.transform(data_cleaned[courses_7][\" COURSE No. \"].values).toarray())\n",
    "    dat_mat_8[i]=sum(vectorizerX.transform(data_cleaned[courses_8][\" COURSE No. \"].values).toarray())\n",
    "\n",
    "from sklearn.neighbors import NearestNeighbors\n",
    "def find_neighbr(querry,roll_no):\n",
    "    if (roll_no>14000&roll_no<15000):\n",
    "        nbrs = NearestNeighbors(n_neighbors=50, algorithm='auto').fit(dat_mat_5)\n",
    "        distances, indices = nbrs.kneighbors(querry)\n",
    "        return indices \n",
    "    elif (roll_no>150000&roll_no<151000):\n",
    "        nbrs = NearestNeighbors(n_neighbors=50, algorithm='auto').fit(dat_mat_3)\n",
    "        distances, indices = nbrs.kneighbors(querry)\n",
    "        return indices \n",
    "    elif (roll_no>13000&roll_no<14000):\n",
    "        nbrs = NearestNeighbors(n_neighbors=15, algorithm='auto').fit(dat_mat_7)\n",
    "        distances, indices = nbrs.kneighbors(querry)\n",
    "        return indices \n",
    "\n",
    "def predict_courses(querry,roll_no):\n",
    "    print(roll_no)\n",
    "    if ((roll_no>14000)&(roll_no<15000)):\n",
    "        indice=find_neighbr(querry,roll_no)\n",
    "        course_vec=dat_mat_6[indice[0,:],:]-dat_mat_5[indice[0,:],:]\n",
    "        print(\"indice1\")\n",
    "        return course_vec\n",
    "    elif ((roll_no>150000)&(roll_no<151000)):\n",
    "        indice=find_neighbr(querry,roll_no)\n",
    "        course_vec=dat_mat_4[indice[0,:],:]-dat_mat_3[indice[0,:],:]\n",
    "        print(\"indice2\")\n",
    "        return course_vec\n",
    "    elif ((roll_no>13000)&(roll_no<14000)):\n",
    "        indice=find_neighbr(querry,roll_no)\n",
    "        print(\"indice3\")\n",
    "        course_vec=dat_mat_8[indice[0,:],:]-dat_mat_7[indice[0,:],:]\n",
    "        return course_vec\n",
    "querry=dat_mat_7[311,:]\n",
    "roll_no=14250\n",
    "#vectorizerX.inverse_transform(predict_courses(querry,roll_no))\n",
    "vectorizerX.inverse_transform(sum(predict_courses(querry,roll_no)))\n",
    "#predict_courses(querry,roll_no).shape"
   ]
  },
  {
   "cell_type": "code",
   "execution_count": null,
   "metadata": {
    "collapsed": true
   },
   "outputs": [],
   "source": []
  }
 ],
 "metadata": {
  "kernelspec": {
   "display_name": "Python 3",
   "language": "python",
   "name": "python3"
  },
  "language_info": {
   "codemirror_mode": {
    "name": "ipython",
    "version": 3
   },
   "file_extension": ".py",
   "mimetype": "text/x-python",
   "name": "python",
   "nbconvert_exporter": "python",
   "pygments_lexer": "ipython3",
   "version": "3.5.1"
  }
 },
 "nbformat": 4,
 "nbformat_minor": 0
}
